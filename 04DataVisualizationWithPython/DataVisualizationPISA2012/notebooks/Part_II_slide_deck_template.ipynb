{
 "cells": [
  {
   "cell_type": "markdown",
   "metadata": {
    "slideshow": {
     "slide_type": "slide"
    }
   },
   "source": [
    "# Part II - PISA 2012\n",
    "## by Peter Szilvasi"
   ]
  },
  {
   "cell_type": "markdown",
   "metadata": {
    "slideshow": {
     "slide_type": "slide"
    }
   },
   "source": [
    "## Investigation Overview\n",
    "\n",
    "My main goal is to investigate the impact on the students' score. I am interested in three different dimension:\n",
    "* Environment of the students: How does the country impact on the overall students score? How much do schools have group work?\n",
    "* Parental background of the students: Do orphan students perform worse? How parents' education level affect student success?\n",
    "* Type of the students: Is school harder for immigrant students? What is the impact of playing video games on stundets' grade?\n",
    "\n",
    "## Dataset Overview\n",
    "\n",
    "The dataset contains 20276 rows and 36 columns. The dataset contains a subset of the original dataset. The following countries were included: Albania, Hungary, Portugal, and Germany. Features of interested were selected according to stundents' environment, parental background, and type."
   ]
  },
  {
   "cell_type": "markdown",
   "metadata": {
    "slideshow": {
     "slide_type": "slide"
    }
   },
   "source": [
    "## How does the country impact on the overall students score?\n",
    "\n",
    "Albania is the lowest-income country in our example. The visualization shows that the overall scores improve as the country's GPD/capita increases. Portugal and Hungary are more or less in the same income level and their overall scores are almost identical. Germany's overall score is the best on average."
   ]
  },
  {
   "cell_type": "markdown",
   "metadata": {
    "slideshow": {
     "slide_type": "subslide"
    }
   },
   "source": [
    "![image](../figures/countries.png)"
   ]
  },
  {
   "cell_type": "markdown",
   "metadata": {
    "collapsed": true,
    "slideshow": {
     "slide_type": "slide"
    }
   },
   "source": [
    "## How much do schools have group work?\n",
    "\n",
    "More than half of the students do not have group work at school. Students sometimes have a couple of group work every month. The minority of the students have group work a couple of times a week."
   ]
  },
  {
   "cell_type": "markdown",
   "metadata": {
    "slideshow": {
     "slide_type": "subslide"
    }
   },
   "source": [
    "![image](../figures/groupwork.png)"
   ]
  },
  {
   "cell_type": "markdown",
   "metadata": {
    "slideshow": {
     "slide_type": "slide"
    }
   },
   "source": [
    "## Do orphan students perform worse?\n",
    "\n",
    "If the student has no parents then the performance of the student is notably decreased. Students have a higher score if they live with single or both parents."
   ]
  },
  {
   "cell_type": "markdown",
   "metadata": {
    "slideshow": {
     "slide_type": "subslide"
    }
   },
   "source": [
    "![image](../figures/parent_numbers.png)"
   ]
  },
  {
   "cell_type": "markdown",
   "metadata": {
    "slideshow": {
     "slide_type": "slide"
    }
   },
   "source": [
    "## How parents' education level affect student success?\n",
    "\n",
    "If the father's education is lower then the students' scores will decrease. The male reading score decreased significantly than female reading scores if their father has only primary education. Mathematics scores increased notably from parents' secondary to high school education. Both graphs tell us that females are better at reading and males are slightly better at mathematics. We can see that the females and males are equally good at science. Generally, the higher the parents' educational background, the student's scores will be higher as well."
   ]
  },
  {
   "cell_type": "markdown",
   "metadata": {
    "slideshow": {
     "slide_type": "subslide"
    }
   },
   "source": [
    "![image](../figures/father_education.png)\n",
    "\n",
    "![image](../figures/mother_education.png)"
   ]
  },
  {
   "cell_type": "markdown",
   "metadata": {
    "slideshow": {
     "slide_type": "slide"
    }
   },
   "source": [
    "## Is school harder for immigrant students?\n",
    "\n",
    "There are much more native students than non-native ones. All students' scores are normally distributed. Native students do not perform better than their non-native counter part. According to the statistics, the first generation immigrant scores 20 points less than the native or the second-generation immigrants. "
   ]
  },
  {
   "cell_type": "markdown",
   "metadata": {
    "slideshow": {
     "slide_type": "subslide"
    }
   },
   "source": [
    "![image](../figures/immigrant.png)"
   ]
  },
  {
   "cell_type": "markdown",
   "metadata": {
    "slideshow": {
     "slide_type": "slide"
    }
   },
   "source": [
    "## What is the impact of playing video games on stundets' grade?\n",
    "\n",
    "Most females never or rarely play multi-player games. We can see that playing every day decreases the average score by a small amount. Playing sometimes does not have a huge impact on the scores. More females play single-player than multi-player games. "
   ]
  },
  {
   "cell_type": "markdown",
   "metadata": {
    "slideshow": {
     "slide_type": "subslide"
    }
   },
   "source": [
    "![image](../figures/single_videogame.png)\n",
    "\n",
    "![image](../figures/multi_videogames.png)"
   ]
  }
 ],
 "metadata": {
  "celltoolbar": "Slideshow",
  "kernelspec": {
   "display_name": "Python 3.9.13 ('datawrangling')",
   "language": "python",
   "name": "python3"
  },
  "language_info": {
   "codemirror_mode": {
    "name": "ipython",
    "version": 3
   },
   "file_extension": ".py",
   "mimetype": "text/x-python",
   "name": "python",
   "nbconvert_exporter": "python",
   "pygments_lexer": "ipython3",
   "version": "3.9.13"
  },
  "vscode": {
   "interpreter": {
    "hash": "eb66155180952cf5c42f117609a4a114ece42054af3cf2bebba4e74018243c07"
   }
  }
 },
 "nbformat": 4,
 "nbformat_minor": 2
}
