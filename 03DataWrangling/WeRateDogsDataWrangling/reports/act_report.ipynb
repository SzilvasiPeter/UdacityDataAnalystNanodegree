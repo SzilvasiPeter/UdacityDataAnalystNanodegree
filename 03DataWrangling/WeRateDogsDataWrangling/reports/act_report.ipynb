{
 "cells": [
  {
   "cell_type": "markdown",
   "metadata": {},
   "source": [
    "## Act Report"
   ]
  },
  {
   "cell_type": "markdown",
   "metadata": {},
   "source": [
    "### Introduction\n",
    "\n",
    "---"
   ]
  },
  {
   "cell_type": "markdown",
   "metadata": {},
   "source": [
    "The main goal was to wrangle WeRateDogs Twitter data to create interesting and trustworthy analyses and visualizations. The Twitter archive is great, but it only contains very basic tweet information. Additional gathering, then assessing and cleaning, I have created interesting analyses and visualizations."
   ]
  },
  {
   "cell_type": "markdown",
   "metadata": {},
   "source": [
    "### Insights\n",
    "\n",
    "---"
   ]
  },
  {
   "cell_type": "markdown",
   "metadata": {},
   "source": [
    "#### What kind of source people using the most to post on Twitter?"
   ]
  },
  {
   "cell_type": "markdown",
   "metadata": {},
   "source": [
    "There is a column named `source` in the dataset. It indicates how people are posting on Twitter. The people are sharing pictures via iphone, web client, and TweedDeck. Answering the question I have used the `value_counts` function. It shows that 1957 people used iphone, 30 people used web browser, and 10 people used tweetdeck. Therefore most people used **iphone** to post on Twitter."
   ]
  },
  {
   "cell_type": "markdown",
   "metadata": {},
   "source": [
    "#### What are the most common dog breed?"
   ]
  },
  {
   "cell_type": "markdown",
   "metadata": {},
   "source": [
    "Question can be answered using the predicted dog breeds in the `image_predictions.tsv` dataset. The dataset contains three image prediction from the highest to the lowest probability. First I have inspected the frequency of the highest probability predictions. The most common breeds were Golden and Labrador Retriever. Deciding the race between the two breeds, I calculated weights using the prediction confidence. Summing with the weights gave better estimates for the most common dog breed.\n",
    "\n",
    "The result shows that the **Golden Retriever** was the most common dog breeds."
   ]
  },
  {
   "cell_type": "markdown",
   "metadata": {},
   "source": [
    "Dog breeds based on Tweet's count               |  Dog breeds based on Retweet's count                | Dog breeds based on Favorite count\n",
    ":----------------------------------------------:|:---------------------------------------------------:|:---------------------------------------------------:\n",
    "![image](./breed_tweet.png \"Breeds vs Tweets\")  |  ![image](./breed_retweet.png \"Breeds vs Retweets\") | ![image](./breed_favorite.png \"Breeds vs Favorite\")"
   ]
  },
  {
   "cell_type": "markdown",
   "metadata": {},
   "source": [
    "#### What are the most popular dog names?"
   ]
  },
  {
   "cell_type": "markdown",
   "metadata": {},
   "source": [
    "The `name` column contains the name of the dogs. Querying the top 10 most frequent dog names:\n",
    "* Charlie, Oliver, Cooper. Frequency of names is 10\n",
    "* Penny, Lucy, Tucker. Frequency of names is 9\n",
    "* Sadie, Winston. Frequency of names 8"
   ]
  },
  {
   "cell_type": "markdown",
   "metadata": {},
   "source": [
    "![image](./dognames.png \"Dog Names Wordcloud\")"
   ]
  },
  {
   "cell_type": "markdown",
   "metadata": {},
   "source": [
    "#### How many pictures are people uploaded?"
   ]
  },
  {
   "cell_type": "markdown",
   "metadata": {},
   "source": [
    "I have summed the number of uploaded images. Then I calculated how much days have passed. Throughout 624 days **2403 pictures** are uploaded. It means that every day almost 4 pictures were posted."
   ]
  },
  {
   "cell_type": "markdown",
   "metadata": {},
   "source": [
    "#### What are the correlation between retweet and favorite count?"
   ]
  },
  {
   "cell_type": "markdown",
   "metadata": {},
   "source": [
    "The following graph shows the correlation between the retweet and favorite count. It displays that two variables are **positively correlated**."
   ]
  },
  {
   "cell_type": "markdown",
   "metadata": {},
   "source": [
    "![image](./favorite_retweet.png \"Favorite vs Retweet counts\")"
   ]
  },
  {
   "cell_type": "markdown",
   "metadata": {},
   "source": [
    "### Final words\n",
    "\n",
    "---"
   ]
  },
  {
   "cell_type": "markdown",
   "metadata": {},
   "source": [
    "I have really like this project and I am also happy to see that the top most popular dogs are the Golden Retriever and the Labrador. When I was a child I had a black Labrador called Csibész. I have a lot of beautiful memories having fun with him. Unfortunetly he passed a long time ago, however when I saw a Golden Retriever or a Labrador in the street, it makes me smile. It reminds me those wonderful moments of my life when I play with him. "
   ]
  },
  {
   "cell_type": "markdown",
   "metadata": {},
   "source": [
    "![image](./labrador.jpeg \"Black Labrador\")"
   ]
  },
  {
   "cell_type": "markdown",
   "metadata": {},
   "source": []
  }
 ],
 "metadata": {
  "kernelspec": {
   "display_name": "Python 3.9.10 64-bit",
   "language": "python",
   "name": "python3"
  },
  "language_info": {
   "codemirror_mode": {
    "name": "ipython",
    "version": 3
   },
   "file_extension": ".py",
   "mimetype": "text/x-python",
   "name": "python",
   "nbconvert_exporter": "python",
   "pygments_lexer": "ipython3",
   "version": "3.9.10"
  },
  "vscode": {
   "interpreter": {
    "hash": "fe9a959b20c1a11f0379d800fd04c0320f2dff6d2d0003a40f8f375949ccb47d"
   }
  }
 },
 "nbformat": 4,
 "nbformat_minor": 2
}
